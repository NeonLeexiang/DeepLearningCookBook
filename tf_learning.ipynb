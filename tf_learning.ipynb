{
 "cells": [
  {
   "cell_type": "code",
   "execution_count": 1,
   "metadata": {
    "collapsed": true
   },
   "outputs": [],
   "source": [
    "# import tensorFlow\n",
    "import tensorflow as tf"
   ]
  },
  {
   "cell_type": "code",
   "execution_count": 2,
   "metadata": {},
   "outputs": [
    {
     "data": {
      "text/plain": [
       "'1.13.1'"
      ]
     },
     "execution_count": 2,
     "metadata": {},
     "output_type": "execute_result"
    }
   ],
   "source": [
    "# use tensorFlow to show the tensorFlow version\n",
    "tf.__version__"
   ]
  },
  {
   "cell_type": "code",
   "execution_count": 4,
   "metadata": {},
   "outputs": [
    {
     "name": "stdout",
     "output_type": "stream",
     "text": [
      "390.0\n"
     ]
    }
   ],
   "source": [
    "in_put = [134, 256]\n",
    "tensor_1 = tf.placeholder(tf.float32)\n",
    "tensor_2 = tf.placeholder(tf.float32)\n",
    "tensor_3 = tensor_1 + tensor_2\n",
    "output = tf.Session().run(tensor_3, feed_dict={tensor_1: in_put[0], tensor_2: in_put[1]})\n",
    "print(output)"
   ]
  },
  {
   "cell_type": "code",
   "execution_count": 23,
   "metadata": {},
   "outputs": [
    {
     "name": "stdout",
     "output_type": "stream",
     "text": [
      "[0 1]\n[2 3]\n[4 5]\n[6 7]\n"
     ]
    }
   ],
   "source": [
    "my_data = [\n",
    "        [0, 1, ],\n",
    "        [2, 3, ],\n",
    "        [4, 5, ],\n",
    "        [6, 7, ],\n",
    "    ]\n",
    "slices = tf.data.Dataset.from_tensor_slices(my_data)\n",
    "next_item = slices.make_one_shot_iterator().get_next()\n",
    "\n",
    "sess = tf.Session()\n",
    "while True:\n",
    "    try:\n",
    "        print(sess.run(next_item))\n",
    "    except tf.errors.OutOfRangeError:\n",
    "        break"
   ]
  },
  {
   "cell_type": "code",
   "execution_count": 24,
   "metadata": {},
   "outputs": [],
   "source": [
    "\n",
    "def code6():\n",
    "    my_data = [\n",
    "        [0, 1, ],\n",
    "        [2, 3, ],\n",
    "        [4, 5, ],\n",
    "        [6, 7, ],\n",
    "    ]\n",
    "    slices = tf.data.Dataset.from_tensor_slices(my_data)\n",
    "    next_item = slices.make_one_shot_iterator().get_next()\n",
    "\n",
    "    sess = tf.Session()\n",
    "    while True:\n",
    "        try:\n",
    "            print(sess.run(next_item))\n",
    "        except tf.errors.OutOfRangeError:\n",
    "            break"
   ]
  },
  {
   "cell_type": "code",
   "execution_count": 25,
   "metadata": {},
   "outputs": [
    {
     "name": "stdout",
     "output_type": "stream",
     "text": [
      "[0 1]\n[2 3]\n[4 5]\n[6 7]\n"
     ]
    }
   ],
   "source": [
    "code6()"
   ]
  },
  {
   "cell_type": "code",
   "execution_count": null,
   "metadata": {},
   "outputs": [],
   "source": []
  }
 ],
 "metadata": {
  "kernelspec": {
   "display_name": "Python 2",
   "language": "python",
   "name": "python2"
  },
  "language_info": {
   "codemirror_mode": {
    "name": "ipython",
    "version": 2
   },
   "file_extension": ".py",
   "mimetype": "text/x-python",
   "name": "python",
   "nbconvert_exporter": "python",
   "pygments_lexer": "ipython2",
   "version": "2.7.6"
  }
 },
 "nbformat": 4,
 "nbformat_minor": 0
}
