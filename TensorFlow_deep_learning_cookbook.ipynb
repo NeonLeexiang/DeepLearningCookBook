{
 "cells": [
  {
   "cell_type": "code",
   "execution_count": 1,
   "metadata": {
    "collapsed": true
   },
   "outputs": [],
   "source": [
    "import tensorflow as tf\n",
    "# import tensorflow"
   ]
  },
  {
   "cell_type": "code",
   "execution_count": 2,
   "metadata": {},
   "outputs": [
    {
     "name": "stdout",
     "output_type": "stream",
     "text": [
      "[[1. 0. 0. 0. 0.]\n [0. 1. 0. 0. 0.]\n [0. 0. 1. 0. 0.]\n [0. 0. 0. 1. 0.]\n [0. 0. 0. 0. 1.]]\n"
     ]
    }
   ],
   "source": [
    "sess = tf.InteractiveSession()  # then we can simplify the option of sess.run()\n",
    "\n",
    "i_matrix = tf.eye(5)\n",
    "print(i_matrix.eval())\n"
   ]
  },
  {
   "cell_type": "code",
   "execution_count": 3,
   "metadata": {},
   "outputs": [
    {
     "name": "stdout",
     "output_type": "stream",
     "text": [
      "WARNING:tensorflow:From /Users/neonrocks/Library/Python/3.6/lib/python/site-packages/tensorflow/python/framework/op_def_library.py:263: colocate_with (from tensorflow.python.framework.ops) is deprecated and will be removed in a future version.\nInstructions for updating:\nColocations handled automatically by placer.\n"
     ]
    },
    {
     "name": "stdout",
     "output_type": "stream",
     "text": [
      "[[1. 0. 0. 0. 0. 0. 0. 0. 0. 0.]\n [0. 1. 0. 0. 0. 0. 0. 0. 0. 0.]\n [0. 0. 1. 0. 0. 0. 0. 0. 0. 0.]\n [0. 0. 0. 1. 0. 0. 0. 0. 0. 0.]\n [0. 0. 0. 0. 1. 0. 0. 0. 0. 0.]\n [0. 0. 0. 0. 0. 1. 0. 0. 0. 0.]\n [0. 0. 0. 0. 0. 0. 1. 0. 0. 0.]\n [0. 0. 0. 0. 0. 0. 0. 1. 0. 0.]\n [0. 0. 0. 0. 0. 0. 0. 0. 1. 0.]\n [0. 0. 0. 0. 0. 0. 0. 0. 0. 1.]]\n"
     ]
    }
   ],
   "source": [
    "x = tf.Variable(tf.eye(10))\n",
    "x.initializer.run()     # sess.run(x.initializer)\n",
    "print(x.eval())\n",
    "# Evaluate the Variable and print the result"
   ]
  },
  {
   "cell_type": "code",
   "execution_count": 4,
   "metadata": {},
   "outputs": [
    {
     "name": "stdout",
     "output_type": "stream",
     "text": [
      "[[ 1.1268214  -0.07541788  0.13734724 -0.06703051 -0.02726404  0.58679825\n   0.07476194 -0.7182946  -0.37819043  0.8962354 ]\n [-0.36443144  2.3556945  -0.9066026  -0.38138536  0.3033934  -0.8624864\n  -0.9234215  -0.9251427  -0.37474683  0.9477685 ]\n [ 0.5856476  -0.6517978   0.25672868 -1.2145989  -0.41023442  0.7085469\n  -0.57204473  1.7072134  -0.38418895  1.1739513 ]\n [-0.7292974   0.28294432  0.47209135 -0.18394503 -0.42708108 -1.2207555\n  -0.25989774 -0.72766787 -0.65032464  1.3251866 ]\n [ 1.035721    0.68439525  1.7559799   1.3812845   1.6872468   1.5042131\n  -0.14574537  1.5438229   0.17041889 -2.0911975 ]]\n"
     ]
    }
   ],
   "source": [
    "a = tf.Variable(tf.random_normal([5, 10]))\n",
    "a.initializer.run()\n",
    "\n",
    "product = tf.matmul(a, x)   # multiply two matrices\n",
    "print(product.eval())   # eval = evaluate = calculate = sess.run(fetches, feed_dict...)"
   ]
  },
  {
   "cell_type": "code",
   "execution_count": 7,
   "metadata": {},
   "outputs": [
    {
     "name": "stdout",
     "output_type": "stream",
     "text": [
      "[[0 0 1 0 1 1 0 0 1 1]\n [1 0 0 1 1 1 0 1 1 1]\n [0 1 0 0 0 0 0 0 0 1]\n [1 1 1 1 1 1 0 1 0 0]\n [1 1 1 0 0 0 1 0 1 1]]\n"
     ]
    }
   ],
   "source": [
    "# create a random matrix of 1s and 0s, size 5x10\n",
    "b = tf.Variable(tf.random_uniform([5, 10], 0, 2, dtype=tf.int32))\n",
    "b.initializer.run()\n",
    "print(b.eval())\n",
    "\n",
    "b_new = tf.cast(b, dtype=tf.float32)"
   ]
  },
  {
   "cell_type": "code",
   "execution_count": 8,
   "metadata": {},
   "outputs": [
    {
     "name": "stdout",
     "output_type": "stream",
     "text": [
      "A*X _b \n [[ 1.1268214  -0.07541788  1.1373472  -0.06703051  0.97273594  1.5867982\n   0.07476194 -0.7182946   0.6218096   1.8962355 ]\n [ 0.63556856  2.3556945  -0.9066026   0.6186147   1.3033934   0.13751358\n  -0.9234215   0.07485729  0.6252532   1.9477684 ]\n [ 0.5856476   0.34820223  0.25672868 -1.2145989  -0.41023442  0.7085469\n  -0.57204473  1.7072134  -0.38418895  2.1739511 ]\n [ 0.2707026   1.2829443   1.4720913   0.81605494  0.5729189  -0.22075546\n  -0.25989774  0.27233213 -0.65032464  1.3251866 ]\n [ 2.0357208   1.6843953   2.75598     1.3812845   1.6872468   1.5042131\n   0.8542546   1.5438229   1.1704189  -1.0911975 ]]\nA*X - b \n [[ 1.1268214  -0.07541788 -0.8626528  -0.06703051 -1.027264   -0.41320175\n   0.07476194 -0.7182946  -1.3781904  -0.10376459]\n [-1.3644314   2.3556945  -0.9066026  -1.3813853  -0.69660664 -1.8624864\n  -0.9234215  -1.9251428  -1.3747468  -0.05223149]\n [ 0.5856476  -1.6517978   0.25672868 -1.2145989  -0.41023442  0.7085469\n  -0.57204473  1.7072134  -0.38418895  0.17395127]\n [-1.7292974  -0.7170557  -0.5279087  -1.1839451  -1.4270811  -2.2207556\n  -0.25989774 -1.7276678  -0.65032464  1.3251866 ]\n [ 0.03572094 -0.31560475  0.7559799   1.3812845   1.6872468   1.5042131\n  -1.1457454   1.5438229  -0.82958114 -3.0911975 ]]\n"
     ]
    }
   ],
   "source": [
    "t_sum = tf.add(product, b_new)\n",
    "t_sub = product - b_new\n",
    "\n",
    "print(\"A*X _b \\n\", t_sum.eval())\n",
    "print(\"A*X - b \\n\", t_sub.eval())"
   ]
  },
  {
   "cell_type": "code",
   "execution_count": 9,
   "metadata": {},
   "outputs": [
    {
     "name": "stdout",
     "output_type": "stream",
     "text": [
      "WARNING:tensorflow:From <ipython-input-9-1154d1b9902c>:12: div (from tensorflow.python.ops.math_ops) is deprecated and will be removed in a future version.\nInstructions for updating:\nDeprecated in favor of operator or tf.math.divide.\n"
     ]
    },
    {
     "name": "stdout",
     "output_type": "stream",
     "text": [
      "a:\n [[-1.073663    0.42696834  2.4697654   1.0959783   1.1477964 ]\n [-1.0268139   0.28909335  0.28138655 -2.3447895  -1.2895677 ]\n [ 0.5509032  -1.3226422   5.045516    0.18865643 -0.42369422]\n [-2.8499188   1.8328598   0.42222095  1.2241217  -5.2408586 ]] \n b:\n [[-0.6941402  -1.6706158  -1.4549235   1.8060231   0.51780623]\n [-0.07345588 -0.51726574  1.0862154  -1.1075462  -0.8979824 ]\n [-1.118018    2.703206    0.33025423  0.01212805 -0.519491  ]\n [-1.2906011   3.4052896   3.100042    1.2004067  -0.54431915]] \n a*b\n [[ 7.4527264e-01 -7.1330005e-01 -3.5933199e+00  1.9793621e+00\n   5.9433615e-01]\n [ 7.5425513e-02 -1.4953808e-01  3.0564639e-01  2.5969627e+00\n   1.1580092e+00]\n [-6.1591971e-01 -3.5753744e+00  1.6663030e+00  2.2880347e-03\n   2.2010535e-01]\n [ 3.6781085e+00  6.2414184e+00  1.3089027e+00  1.4694438e+00\n   2.8526998e+00]] \n 2*a*b: \n [[ 1.4905453e+00 -1.4266001e+00 -7.1866398e+00  3.9587243e+00\n   1.1886723e+00]\n [ 1.5085103e-01 -2.9907617e-01  6.1129278e-01  5.1939254e+00\n   2.3160183e+00]\n [-1.2318394e+00 -7.1507487e+00  3.3326061e+00  4.5760693e-03\n   4.4021070e-01]\n [ 7.3562169e+00  1.2482837e+01  2.6178055e+00  2.9388876e+00\n   5.7053995e+00]] \n a/b: \n [[ 1.5467523  -0.25557542 -1.6975225   0.6068462   2.2166524 ]\n [13.978648   -0.5588875   0.25905228  2.117103    1.4360723 ]\n [-0.49274984 -0.48928648 15.277673   15.55538     0.8155949 ]\n [ 2.2082105   0.538239    0.13619846  1.0197558   9.628283  ]] \n a%b: \n [[-0.3795228  -1.2436475  -0.4400816   1.0959783   0.11218393]\n [-0.07188746 -0.22817239  0.28138655 -0.12969708 -0.3915853 ]\n [-0.56711483  1.3805639   0.09170261  0.00673568 -0.42369422]\n [-0.26871657  1.8328598   0.42222095  0.02371502 -0.34198618]]\n"
     ]
    }
   ],
   "source": [
    "# some other option\n",
    "a = tf.Variable(tf.random_normal([4, 5], stddev=2))\n",
    "b = tf.Variable(tf.random_normal([4, 5], stddev=2))\n",
    "\n",
    "# elements wise multiplication\n",
    "A = a*b\n",
    "\n",
    "# multiplication with scalar 2\n",
    "B = tf.scalar_mul(2, A)\n",
    "\n",
    "# elementwise division, its result is\n",
    "C = tf.div(a, b)\n",
    "\n",
    "# element wise remainder of division\n",
    "D = tf.mod(a, b)\n",
    "\n",
    "init_op = tf.global_variables_initializer()\n",
    "\n",
    "sess = tf.Session()\n",
    "\n",
    "sess.run(init_op)\n",
    "\n",
    "writer = tf.summary.FileWriter('graphs', sess.graph)\n",
    "a, b, A_R, B_R, C_R, D_R = sess.run([a, b, A, B, C, D])\n",
    "\n",
    "print(\"a:\\n\", a, \"\\n b:\\n\", b, \"\\n a*b\\n\",\n",
    "      A_R, \"\\n 2*a*b: \\n\", B_R, \"\\n a/b: \\n\", C_R, \"\\n a%b: \\n\", D_R)\n",
    "\n",
    "writer.close()\n",
    "sess.close()\n",
    "\n"
   ]
  },
  {
   "cell_type": "code",
   "execution_count": null,
   "metadata": {},
   "outputs": [],
   "source": []
  }
 ],
 "metadata": {
  "kernelspec": {
   "display_name": "Python 2",
   "language": "python",
   "name": "python2"
  },
  "language_info": {
   "codemirror_mode": {
    "name": "ipython",
    "version": 2
   },
   "file_extension": ".py",
   "mimetype": "text/x-python",
   "name": "python",
   "nbconvert_exporter": "python",
   "pygments_lexer": "ipython2",
   "version": "2.7.6"
  }
 },
 "nbformat": 4,
 "nbformat_minor": 0
}
